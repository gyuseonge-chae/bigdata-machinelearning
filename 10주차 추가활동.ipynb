{
 "cells": [
  {
   "cell_type": "code",
   "execution_count": 68,
   "id": "ca03d977",
   "metadata": {},
   "outputs": [],
   "source": [
    "import sklearn\n",
    "import numpy as np\n",
    "import os\n",
    "\n",
    "# 노트북 실행 결과를 동일하게 유지하기 위해\n",
    "np.random.seed(42)\n",
    "\n",
    "#그래프 출력 모듈\n",
    "%matplotlib inline\n",
    "import matplotlib as mpl\n",
    "import matplotlib.pyplot as plt\n",
    "\n",
    "\n",
    "#Iris dataset\n",
    "from sklearn import datasets\n",
    "iris = datasets.load_iris()\n",
    "\n",
    "X = iris[\"data\"]  # 꽃잎 길이, 너비\n",
    "y = iris[\"target\"].astype(int)"
   ]
  },
  {
   "cell_type": "code",
   "execution_count": 69,
   "id": "bef35b73",
   "metadata": {},
   "outputs": [
    {
     "name": "stdout",
     "output_type": "stream",
     "text": [
      "[0 0 0 0 0 0 0 0 0 0 0 0 0 0 0 0 0 0 0 0 0 0 0 0 0 0 0 0 0 0 0 0 0 0 0 0 0\n",
      " 0 0 0 0 0 0 0 0 0 0 0 0 0 1 1 1 1 1 1 1 1 1 1 1 1 1 1 1 1 1 1 1 1 1 1 1 1\n",
      " 1 1 1 1 1 1 1 1 1 1 1 1 1 1 1 1 1 1 1 1 1 1 1 1 1 1 2 2 2 2 2 2 2 2 2 2 2\n",
      " 2 2 2 2 2 2 2 2 2 2 2 2 2 2 2 2 2 2 2 2 2 2 2 2 2 2 2 2 2 2 2 2 2 2 2 2 2\n",
      " 2 2]\n"
     ]
    }
   ],
   "source": [
    "import pandas as pd\n",
    "print(y)    #number of class = 3"
   ]
  },
  {
   "cell_type": "code",
   "execution_count": 70,
   "id": "790f2b50",
   "metadata": {},
   "outputs": [
    {
     "data": {
      "text/html": [
       "<div>\n",
       "<style scoped>\n",
       "    .dataframe tbody tr th:only-of-type {\n",
       "        vertical-align: middle;\n",
       "    }\n",
       "\n",
       "    .dataframe tbody tr th {\n",
       "        vertical-align: top;\n",
       "    }\n",
       "\n",
       "    .dataframe thead th {\n",
       "        text-align: right;\n",
       "    }\n",
       "</style>\n",
       "<table border=\"1\" class=\"dataframe\">\n",
       "  <thead>\n",
       "    <tr style=\"text-align: right;\">\n",
       "      <th></th>\n",
       "      <th>sepal length (cm)</th>\n",
       "      <th>sepal width (cm)</th>\n",
       "      <th>petal length (cm)</th>\n",
       "      <th>petal width (cm)</th>\n",
       "    </tr>\n",
       "  </thead>\n",
       "  <tbody>\n",
       "    <tr>\n",
       "      <th>0</th>\n",
       "      <td>5.1</td>\n",
       "      <td>3.5</td>\n",
       "      <td>1.4</td>\n",
       "      <td>0.2</td>\n",
       "    </tr>\n",
       "    <tr>\n",
       "      <th>1</th>\n",
       "      <td>4.9</td>\n",
       "      <td>3.0</td>\n",
       "      <td>1.4</td>\n",
       "      <td>0.2</td>\n",
       "    </tr>\n",
       "    <tr>\n",
       "      <th>2</th>\n",
       "      <td>4.7</td>\n",
       "      <td>3.2</td>\n",
       "      <td>1.3</td>\n",
       "      <td>0.2</td>\n",
       "    </tr>\n",
       "    <tr>\n",
       "      <th>3</th>\n",
       "      <td>4.6</td>\n",
       "      <td>3.1</td>\n",
       "      <td>1.5</td>\n",
       "      <td>0.2</td>\n",
       "    </tr>\n",
       "    <tr>\n",
       "      <th>4</th>\n",
       "      <td>5.0</td>\n",
       "      <td>3.6</td>\n",
       "      <td>1.4</td>\n",
       "      <td>0.2</td>\n",
       "    </tr>\n",
       "  </tbody>\n",
       "</table>\n",
       "</div>"
      ],
      "text/plain": [
       "   sepal length (cm)  sepal width (cm)  petal length (cm)  petal width (cm)\n",
       "0                5.1               3.5                1.4               0.2\n",
       "1                4.9               3.0                1.4               0.2\n",
       "2                4.7               3.2                1.3               0.2\n",
       "3                4.6               3.1                1.5               0.2\n",
       "4                5.0               3.6                1.4               0.2"
      ]
     },
     "execution_count": 70,
     "metadata": {},
     "output_type": "execute_result"
    }
   ],
   "source": [
    "df = pd.DataFrame(data = iris.data, columns = iris.feature_names)\n",
    "df.head()"
   ]
  },
  {
   "cell_type": "code",
   "execution_count": 71,
   "id": "e94a626b",
   "metadata": {},
   "outputs": [
    {
     "name": "stdout",
     "output_type": "stream",
     "text": [
      "sepal length (cm)    7.9\n",
      "sepal width (cm)     4.4\n",
      "petal length (cm)    6.9\n",
      "petal width (cm)     2.5\n",
      "dtype: float64\n",
      "\n",
      "\n",
      "sepal length (cm)    4.3\n",
      "sepal width (cm)     2.0\n",
      "petal length (cm)    1.0\n",
      "petal width (cm)     0.1\n",
      "dtype: float64\n"
     ]
    }
   ],
   "source": [
    "print(df.max())\n",
    "print(\"\\n\")\n",
    "print(df.min())"
   ]
  },
  {
   "cell_type": "code",
   "execution_count": 72,
   "id": "6ece443b",
   "metadata": {},
   "outputs": [],
   "source": [
    "from sklearn.model_selection import train_test_split\n",
    "X_train, X_test, y_train, y_test = train_test_split(X, y, test_size = 0.2, random_state = 11)"
   ]
  },
  {
   "cell_type": "code",
   "execution_count": 73,
   "id": "11066fd5",
   "metadata": {},
   "outputs": [
    {
     "name": "stdout",
     "output_type": "stream",
     "text": [
      "(120, 4) (120,)\n"
     ]
    }
   ],
   "source": [
    "print(X_train.shape, y_train.shape)"
   ]
  },
  {
   "cell_type": "code",
   "execution_count": 74,
   "id": "188f120f",
   "metadata": {},
   "outputs": [],
   "source": [
    "#Note that we know that there exists 3 class in iris set\n",
    "\n",
    "#Gini Impurity\n",
    "def Gini(samples_in_node):\n",
    "    class_0 = 0\n",
    "    class_1 = 0\n",
    "    class_2 = 0\n",
    "    \n",
    "    for sample in samples_in_node:\n",
    "        if sample[4] == 0:\n",
    "            class_0 += 1\n",
    "        elif sample[4] == 1:\n",
    "            class_1 += 1\n",
    "        elif sample[4] == 2:\n",
    "            class_2 += 1\n",
    "    gini = 1 - (((class_0/len(samples_in_node))**2)+((class_1/len(samples_in_node))**2)+((class_2/len(samples_in_node))**2))\n",
    "    return gini\n",
    "\n",
    "#Node Set Up\n",
    "def insertNode(samples_in_node, feature : (int), threshold):\n",
    "    leftChild = []\n",
    "    rightChild = []\n",
    "    for sample in samples_in_node:\n",
    "        if sample[feature] < threshold:\n",
    "            leftChild.append(sample)\n",
    "        else:\n",
    "            rightChild.append(sample)\n",
    "    return rightChild, leftChild\n",
    "\n",
    "#Loss Function\n",
    "def Cost(samples_in_node, feature, threshold):\n",
    "    left, right = insertNode(samples_in_node, feature, threshold)\n",
    "    res = (len(left)/len(samples_in_node)*Gini(left)) + (len(right)/len(samples_in_node)*Gini(right))\n",
    "    return res"
   ]
  },
  {
   "cell_type": "code",
   "execution_count": 75,
   "id": "0897888e",
   "metadata": {},
   "outputs": [
    {
     "name": "stdout",
     "output_type": "stream",
     "text": [
      "[[4.3 7.9]\n",
      " [2.  4.4]\n",
      " [1.  6.9]\n",
      " [0.1 2.5]]\n"
     ]
    }
   ],
   "source": [
    "from random import *\n",
    "\n",
    "#data rebuild\n",
    "new_set = np.zeros((len(X_train),5))\n",
    "for i in range(len(X_train)):\n",
    "    new_set[i, :4] = X_train[i]\n",
    "    new_set[i, 4] = y_train[i]\n",
    "\n",
    "Threshold = np.array([[4.3, 7.9], [2.0, 4.4], [1.0, 6.9], [0.1, 2.5]])\n",
    "print(Threshold)"
   ]
  },
  {
   "cell_type": "code",
   "execution_count": 76,
   "id": "6b214f5e",
   "metadata": {},
   "outputs": [
    {
     "data": {
      "text/plain": [
       "array([[5.1, 3.5, 1.4, 0.2, 0. ],\n",
       "       [6.9, 3.2, 5.7, 2.3, 2. ],\n",
       "       [7.7, 2.8, 6.7, 2. , 2. ],\n",
       "       [5. , 3.3, 1.4, 0.2, 0. ],\n",
       "       [4.7, 3.2, 1.6, 0.2, 0. ],\n",
       "       [7.7, 2.6, 6.9, 2.3, 2. ],\n",
       "       [7.6, 3. , 6.6, 2.1, 2. ],\n",
       "       [6.7, 3. , 5. , 1.7, 1. ],\n",
       "       [5.5, 3.5, 1.3, 0.2, 0. ],\n",
       "       [6. , 2.7, 5.1, 1.6, 1. ],\n",
       "       [5. , 2. , 3.5, 1. , 1. ],\n",
       "       [7.9, 3.8, 6.4, 2. , 2. ],\n",
       "       [4.6, 3.4, 1.4, 0.3, 0. ],\n",
       "       [6.9, 3.1, 4.9, 1.5, 1. ],\n",
       "       [6.5, 3. , 5.8, 2.2, 2. ],\n",
       "       [5.1, 2.5, 3. , 1.1, 1. ],\n",
       "       [6.6, 2.9, 4.6, 1.3, 1. ],\n",
       "       [5. , 3.2, 1.2, 0.2, 0. ],\n",
       "       [7.4, 2.8, 6.1, 1.9, 2. ],\n",
       "       [5.1, 3.8, 1.6, 0.2, 0. ],\n",
       "       [6.8, 3.2, 5.9, 2.3, 2. ],\n",
       "       [6.9, 3.1, 5.1, 2.3, 2. ],\n",
       "       [5.9, 3. , 4.2, 1.5, 1. ],\n",
       "       [4.9, 2.5, 4.5, 1.7, 2. ],\n",
       "       [6.7, 3.1, 4.7, 1.5, 1. ],\n",
       "       [4.4, 3.2, 1.3, 0.2, 0. ],\n",
       "       [5.4, 3.4, 1.7, 0.2, 0. ],\n",
       "       [6.5, 2.8, 4.6, 1.5, 1. ],\n",
       "       [5.1, 3.7, 1.5, 0.4, 0. ],\n",
       "       [5. , 3.4, 1.6, 0.4, 0. ],\n",
       "       [6.1, 2.6, 5.6, 1.4, 2. ],\n",
       "       [6.5, 3. , 5.5, 1.8, 2. ],\n",
       "       [6.3, 2.5, 5. , 1.9, 2. ],\n",
       "       [5.2, 3.4, 1.4, 0.2, 0. ],\n",
       "       [5. , 3.6, 1.4, 0.2, 0. ],\n",
       "       [5.4, 3.4, 1.5, 0.4, 0. ],\n",
       "       [6.1, 2.8, 4.7, 1.2, 1. ],\n",
       "       [5.1, 3.4, 1.5, 0.2, 0. ],\n",
       "       [5.6, 3. , 4.1, 1.3, 1. ],\n",
       "       [6.3, 2.7, 4.9, 1.8, 2. ],\n",
       "       [7.1, 3. , 5.9, 2.1, 2. ],\n",
       "       [5.5, 2.6, 4.4, 1.2, 1. ],\n",
       "       [5. , 2.3, 3.3, 1. , 1. ],\n",
       "       [6.3, 3.4, 5.6, 2.4, 2. ],\n",
       "       [5.8, 2.7, 5.1, 1.9, 2. ],\n",
       "       [5.5, 4.2, 1.4, 0.2, 0. ],\n",
       "       [5.6, 2.7, 4.2, 1.3, 1. ],\n",
       "       [6.2, 2.9, 4.3, 1.3, 1. ],\n",
       "       [6.7, 2.5, 5.8, 1.8, 2. ],\n",
       "       [6.1, 3. , 4.9, 1.8, 2. ],\n",
       "       [6.7, 3.1, 5.6, 2.4, 2. ],\n",
       "       [4.6, 3.2, 1.4, 0.2, 0. ],\n",
       "       [7.7, 3.8, 6.7, 2.2, 2. ],\n",
       "       [5.3, 3.7, 1.5, 0.2, 0. ],\n",
       "       [5.7, 3.8, 1.7, 0.3, 0. ],\n",
       "       [5. , 3.5, 1.6, 0.6, 0. ],\n",
       "       [5.1, 3.5, 1.4, 0.3, 0. ],\n",
       "       [6.3, 3.3, 6. , 2.5, 2. ],\n",
       "       [4.4, 3. , 1.3, 0.2, 0. ],\n",
       "       [5. , 3. , 1.6, 0.2, 0. ],\n",
       "       [5.1, 3.8, 1.5, 0.3, 0. ],\n",
       "       [6. , 2.9, 4.5, 1.5, 1. ],\n",
       "       [5.2, 4.1, 1.5, 0.1, 0. ],\n",
       "       [6.3, 2.5, 4.9, 1.5, 1. ],\n",
       "       [6.2, 2.2, 4.5, 1.5, 1. ],\n",
       "       [6.4, 3.1, 5.5, 1.8, 2. ],\n",
       "       [6.3, 2.3, 4.4, 1.3, 1. ],\n",
       "       [4.4, 2.9, 1.4, 0.2, 0. ],\n",
       "       [4.6, 3.1, 1.5, 0.2, 0. ],\n",
       "       [4.9, 3. , 1.4, 0.2, 0. ],\n",
       "       [5.2, 2.7, 3.9, 1.4, 1. ],\n",
       "       [5.7, 2.8, 4.1, 1.3, 1. ],\n",
       "       [7. , 3.2, 4.7, 1.4, 1. ],\n",
       "       [6.7, 3.3, 5.7, 2.5, 2. ],\n",
       "       [5.5, 2.3, 4. , 1.3, 1. ],\n",
       "       [5.4, 3.9, 1.7, 0.4, 0. ],\n",
       "       [5.7, 3. , 4.2, 1.2, 1. ],\n",
       "       [6.4, 3.2, 5.3, 2.3, 2. ],\n",
       "       [5. , 3.5, 1.3, 0.3, 0. ],\n",
       "       [6.2, 2.8, 4.8, 1.8, 2. ],\n",
       "       [6.7, 3.3, 5.7, 2.1, 2. ],\n",
       "       [5.7, 2.8, 4.5, 1.3, 1. ],\n",
       "       [5. , 3.4, 1.5, 0.2, 0. ],\n",
       "       [5.8, 4. , 1.2, 0.2, 0. ],\n",
       "       [5.1, 3.8, 1.9, 0.4, 0. ],\n",
       "       [5.6, 2.8, 4.9, 2. , 2. ],\n",
       "       [4.9, 2.4, 3.3, 1. , 1. ],\n",
       "       [5.4, 3.7, 1.5, 0.2, 0. ],\n",
       "       [7.3, 2.9, 6.3, 1.8, 2. ],\n",
       "       [5.5, 2.5, 4. , 1.3, 1. ],\n",
       "       [7.7, 3. , 6.1, 2.3, 2. ],\n",
       "       [5.2, 3.5, 1.5, 0.2, 0. ],\n",
       "       [5.1, 3.3, 1.7, 0.5, 0. ],\n",
       "       [5.7, 2.9, 4.2, 1.3, 1. ],\n",
       "       [5.7, 2.6, 3.5, 1. , 1. ],\n",
       "       [6. , 3. , 4.8, 1.8, 2. ],\n",
       "       [5.6, 2.9, 3.6, 1.3, 1. ],\n",
       "       [6.4, 2.8, 5.6, 2.1, 2. ],\n",
       "       [5.8, 2.8, 5.1, 2.4, 2. ],\n",
       "       [5.9, 3.2, 4.8, 1.8, 1. ],\n",
       "       [5.8, 2.7, 4.1, 1. , 1. ],\n",
       "       [6.2, 3.4, 5.4, 2.3, 2. ],\n",
       "       [6.5, 3. , 5.2, 2. , 2. ],\n",
       "       [4.9, 3.6, 1.4, 0.1, 0. ],\n",
       "       [6.4, 2.9, 4.3, 1.3, 1. ],\n",
       "       [7.2, 3. , 5.8, 1.6, 2. ],\n",
       "       [4.9, 3.1, 1.5, 0.2, 0. ],\n",
       "       [6.4, 2.8, 5.6, 2.2, 2. ],\n",
       "       [7.2, 3.2, 6. , 1.8, 2. ],\n",
       "       [4.8, 3. , 1.4, 0.3, 0. ],\n",
       "       [5.8, 2.6, 4. , 1.2, 1. ],\n",
       "       [7.2, 3.6, 6.1, 2.5, 2. ],\n",
       "       [4.8, 3.4, 1.9, 0.2, 0. ],\n",
       "       [5.8, 2.7, 3.9, 1.2, 1. ],\n",
       "       [6.1, 2.8, 4. , 1.3, 1. ],\n",
       "       [6.8, 2.8, 4.8, 1.4, 1. ],\n",
       "       [4.3, 3. , 1.1, 0.1, 0. ],\n",
       "       [5.5, 2.4, 3.7, 1. , 1. ],\n",
       "       [6.1, 3. , 4.6, 1.4, 1. ],\n",
       "       [5.5, 2.4, 3.8, 1.1, 1. ]])"
      ]
     },
     "execution_count": 76,
     "metadata": {},
     "output_type": "execute_result"
    }
   ],
   "source": [
    "new_set"
   ]
  },
  {
   "cell_type": "code",
   "execution_count": 77,
   "id": "2d798355",
   "metadata": {},
   "outputs": [
    {
     "name": "stdout",
     "output_type": "stream",
     "text": [
      "3 0.3233902445767427\n"
     ]
    },
    {
     "data": {
      "text/plain": [
       "0.4094961240310078"
      ]
     },
     "execution_count": 77,
     "metadata": {},
     "output_type": "execute_result"
    }
   ],
   "source": [
    "feature_1 = randint(0,3)\n",
    "threshold_1 = uniform(Threshold[feature_1][0],Threshold[feature_1][1])\n",
    "print(feature_1, threshold_1)\n",
    "Cost(new_set, feature_1, threshold_1)"
   ]
  },
  {
   "cell_type": "code",
   "execution_count": 78,
   "id": "b80c6114",
   "metadata": {},
   "outputs": [
    {
     "name": "stdout",
     "output_type": "stream",
     "text": [
      "0.571389940508383 0.0\n"
     ]
    }
   ],
   "source": [
    "#depth 1\n",
    "depth1_right, depth1_left = insertNode(new_set, feature_1, threshold_1)\n",
    "\n",
    "print(Gini(depth1_right), Gini(depth1_left)) #Gini Impurity of Child Nodes"
   ]
  },
  {
   "cell_type": "code",
   "execution_count": 81,
   "id": "858b4329",
   "metadata": {},
   "outputs": [
    {
     "data": {
      "text/plain": [
       "[array([5.1, 3.5, 1.4, 0.2, 0. ]),\n",
       " array([5. , 3.3, 1.4, 0.2, 0. ]),\n",
       " array([4.7, 3.2, 1.6, 0.2, 0. ]),\n",
       " array([5.5, 3.5, 1.3, 0.2, 0. ]),\n",
       " array([4.6, 3.4, 1.4, 0.3, 0. ]),\n",
       " array([5. , 3.2, 1.2, 0.2, 0. ]),\n",
       " array([5.1, 3.8, 1.6, 0.2, 0. ]),\n",
       " array([4.4, 3.2, 1.3, 0.2, 0. ]),\n",
       " array([5.4, 3.4, 1.7, 0.2, 0. ]),\n",
       " array([5.2, 3.4, 1.4, 0.2, 0. ]),\n",
       " array([5. , 3.6, 1.4, 0.2, 0. ]),\n",
       " array([5.1, 3.4, 1.5, 0.2, 0. ]),\n",
       " array([5.5, 4.2, 1.4, 0.2, 0. ]),\n",
       " array([4.6, 3.2, 1.4, 0.2, 0. ]),\n",
       " array([5.3, 3.7, 1.5, 0.2, 0. ]),\n",
       " array([5.7, 3.8, 1.7, 0.3, 0. ]),\n",
       " array([5.1, 3.5, 1.4, 0.3, 0. ]),\n",
       " array([4.4, 3. , 1.3, 0.2, 0. ]),\n",
       " array([5. , 3. , 1.6, 0.2, 0. ]),\n",
       " array([5.1, 3.8, 1.5, 0.3, 0. ]),\n",
       " array([5.2, 4.1, 1.5, 0.1, 0. ]),\n",
       " array([4.4, 2.9, 1.4, 0.2, 0. ]),\n",
       " array([4.6, 3.1, 1.5, 0.2, 0. ]),\n",
       " array([4.9, 3. , 1.4, 0.2, 0. ]),\n",
       " array([5. , 3.5, 1.3, 0.3, 0. ]),\n",
       " array([5. , 3.4, 1.5, 0.2, 0. ]),\n",
       " array([5.8, 4. , 1.2, 0.2, 0. ]),\n",
       " array([5.4, 3.7, 1.5, 0.2, 0. ]),\n",
       " array([5.2, 3.5, 1.5, 0.2, 0. ]),\n",
       " array([4.9, 3.6, 1.4, 0.1, 0. ]),\n",
       " array([4.9, 3.1, 1.5, 0.2, 0. ]),\n",
       " array([4.8, 3. , 1.4, 0.3, 0. ]),\n",
       " array([4.8, 3.4, 1.9, 0.2, 0. ]),\n",
       " array([4.3, 3. , 1.1, 0.1, 0. ])]"
      ]
     },
     "execution_count": 81,
     "metadata": {},
     "output_type": "execute_result"
    }
   ],
   "source": [
    "depth1_left"
   ]
  },
  {
   "cell_type": "code",
   "execution_count": 85,
   "id": "c3bbddbf",
   "metadata": {},
   "outputs": [
    {
     "name": "stdout",
     "output_type": "stream",
     "text": [
      "1 3.1886662916440676\n",
      "0.5532879818594105 0.4856804733727811\n"
     ]
    }
   ],
   "source": [
    "feature_2 = randint(0,3)\n",
    "threshold_2 = uniform(Threshold[feature_2][0], Threshold[feature_2][1])\n",
    "print(feature_2, threshold_2)\n",
    "\n",
    "#depth 2\n",
    "depth2_right, depth2_left = insertNode(depth1_right, feature_2, threshold_2)\n",
    "\n",
    "print(Gini(depth2_right), Gini(depth2_left)) #Gini Impurity of Grandchild Nodes"
   ]
  },
  {
   "cell_type": "code",
   "execution_count": 91,
   "id": "59fcf1d1",
   "metadata": {},
   "outputs": [
    {
     "data": {
      "text/plain": [
       "[array([6.9, 3.2, 5.7, 2.3, 2. ]),\n",
       " array([7.9, 3.8, 6.4, 2. , 2. ]),\n",
       " array([6.8, 3.2, 5.9, 2.3, 2. ]),\n",
       " array([5.1, 3.7, 1.5, 0.4, 0. ]),\n",
       " array([5. , 3.4, 1.6, 0.4, 0. ]),\n",
       " array([5.4, 3.4, 1.5, 0.4, 0. ]),\n",
       " array([6.3, 3.4, 5.6, 2.4, 2. ]),\n",
       " array([7.7, 3.8, 6.7, 2.2, 2. ]),\n",
       " array([5. , 3.5, 1.6, 0.6, 0. ]),\n",
       " array([6.3, 3.3, 6. , 2.5, 2. ]),\n",
       " array([7. , 3.2, 4.7, 1.4, 1. ]),\n",
       " array([6.7, 3.3, 5.7, 2.5, 2. ]),\n",
       " array([5.4, 3.9, 1.7, 0.4, 0. ]),\n",
       " array([6.4, 3.2, 5.3, 2.3, 2. ]),\n",
       " array([6.7, 3.3, 5.7, 2.1, 2. ]),\n",
       " array([5.1, 3.8, 1.9, 0.4, 0. ]),\n",
       " array([5.1, 3.3, 1.7, 0.5, 0. ]),\n",
       " array([5.9, 3.2, 4.8, 1.8, 1. ]),\n",
       " array([6.2, 3.4, 5.4, 2.3, 2. ]),\n",
       " array([7.2, 3.2, 6. , 1.8, 2. ]),\n",
       " array([7.2, 3.6, 6.1, 2.5, 2. ])]"
      ]
     },
     "execution_count": 91,
     "metadata": {},
     "output_type": "execute_result"
    }
   ],
   "source": [
    "depth2_right"
   ]
  },
  {
   "cell_type": "code",
   "execution_count": 107,
   "id": "7ef42ae2",
   "metadata": {},
   "outputs": [
    {
     "name": "stdout",
     "output_type": "stream",
     "text": [
      "Counter({2.0: 12, 0.0: 7, 1.0: 2}) Counter({1.0: 38, 2.0: 27})\n"
     ]
    }
   ],
   "source": [
    "from collections import Counter\n",
    "\n",
    "y1 = np.array(depth2_right)[:, 4]\n",
    "y2 = np.array(depth2_left)[:, 4]\n",
    "cnt1 = Counter(y1)\n",
    "cnt2 = Counter(y2)\n",
    "print(cnt1, cnt2)"
   ]
  },
  {
   "cell_type": "code",
   "execution_count": 109,
   "id": "3ca34011",
   "metadata": {},
   "outputs": [],
   "source": [
    "#Test (feature와 threshold는 위에서 임의대로 구해진 대로 진행, 편의를 위해 소숫점 둘째자리 반올림)\n",
    "#Test set으로 진행, 위 훈련에서 노드의 진행과 최빈값 기준으로 y_pred 구성\n",
    "y_pred_handmade = []\n",
    "\n",
    "for sample in X_test:\n",
    "    if sample[0] <= 0.3:\n",
    "        y_pred_handmade.append(0)\n",
    "    else:\n",
    "        if sample[1] <= 3.2:\n",
    "            y_pred_handmade.append(1)\n",
    "        else:\n",
    "            y_pred_handmade.append(2)"
   ]
  },
  {
   "cell_type": "code",
   "execution_count": 111,
   "id": "a6f2304f",
   "metadata": {},
   "outputs": [
    {
     "data": {
      "text/plain": [
       "array([[ 0,  5,  4],\n",
       "       [ 0,  8,  2],\n",
       "       [ 0, 11,  0]], dtype=int64)"
      ]
     },
     "execution_count": 111,
     "metadata": {},
     "output_type": "execute_result"
    }
   ],
   "source": [
    "#성능 척도: 오차행렬\n",
    "from sklearn.metrics import confusion_matrix\n",
    "mat = confusion_matrix(y_test, y_pred_handmade)\n",
    "mat"
   ]
  },
  {
   "cell_type": "code",
   "execution_count": 113,
   "id": "c9de17f4",
   "metadata": {},
   "outputs": [
    {
     "data": {
      "text/plain": [
       "array([[9, 0, 0],\n",
       "       [0, 8, 2],\n",
       "       [0, 2, 9]], dtype=int64)"
      ]
     },
     "execution_count": 113,
     "metadata": {},
     "output_type": "execute_result"
    }
   ],
   "source": [
    "#Using Python Module\n",
    "from sklearn.tree import DecisionTreeClassifier\n",
    "tree = DecisionTreeClassifier(max_depth=2, random_state=11)\n",
    "tree.fit(X_train, y_train)\n",
    "y_pred_module = tree.predict(X_test)\n",
    "\n",
    "mat = confusion_matrix(y_test, y_pred_module)\n",
    "mat"
   ]
  },
  {
   "cell_type": "code",
   "execution_count": null,
   "id": "b0d8c976",
   "metadata": {},
   "outputs": [],
   "source": []
  }
 ],
 "metadata": {
  "kernelspec": {
   "display_name": "Python 3 (ipykernel)",
   "language": "python",
   "name": "python3"
  },
  "language_info": {
   "codemirror_mode": {
    "name": "ipython",
    "version": 3
   },
   "file_extension": ".py",
   "mimetype": "text/x-python",
   "name": "python",
   "nbconvert_exporter": "python",
   "pygments_lexer": "ipython3",
   "version": "3.9.7"
  }
 },
 "nbformat": 4,
 "nbformat_minor": 5
}
