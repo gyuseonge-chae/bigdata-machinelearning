{
 "cells": [
  {
   "cell_type": "code",
   "execution_count": 1,
   "id": "92c3e07c",
   "metadata": {},
   "outputs": [],
   "source": [
    "import sklearn\n",
    "import numpy as np\n",
    "import os\n",
    "import pandas as pd\n",
    "\n",
    "np.random.seed(42)\n",
    "\n",
    "%matplotlib inline\n",
    "import matplotlib as mpl\n",
    "import matplotlib.pyplot as plt\n",
    "\n",
    "#Iris dataset\n",
    "from sklearn import datasets\n",
    "iris = datasets.load_iris()\n",
    "list(iris.keys())\n",
    "X = iris[\"data\"][:, 2:]  # 꽃잎 길이, 꽃잎 너비\n",
    "y = (iris[\"target\"] == 2).astype(int)  # Iris virginica이면 1 아니면 0"
   ]
  },
  {
   "cell_type": "code",
   "execution_count": 9,
   "id": "871d5c80",
   "metadata": {},
   "outputs": [
    {
     "name": "stdout",
     "output_type": "stream",
     "text": [
      "[ 1  1 -1 -1 -1 -1 -1 -1 -1 -1  1  1 -1  1 -1 -1 -1 -1 -1 -1 -1  1 -1 -1\n",
      "  1 -1  1 -1  1 -1 -1 -1 -1  1  1  1  1  1 -1 -1  1 -1 -1  1 -1 -1 -1 -1\n",
      " -1 -1  1  1 -1 -1 -1 -1  1  1 -1 -1  1  1  1  1 -1 -1 -1 -1 -1 -1  1 -1\n",
      " -1 -1 -1 -1 -1 -1 -1 -1  1 -1 -1 -1  1 -1  1 -1 -1 -1  1  1 -1 -1  1  1\n",
      " -1 -1  1 -1  1 -1 -1 -1 -1  1  1  1 -1 -1  1 -1]\n"
     ]
    }
   ],
   "source": [
    "from sklearn.model_selection import train_test_split\n",
    "X_train, X_test, y_train, y_test = train_test_split(X, y, random_state=10)\n",
    "\n",
    "from sklearn.preprocessing import StandardScaler\n",
    "scaler = StandardScaler()\n",
    "X_train = scaler.fit_transform(X_train)\n",
    "X_test = scaler.transform(X_test)\n",
    "\n",
    "y_train_abs1 = y_train * 2 - 1\n",
    "y_test_abs1 = y_test * 2 - 1\n",
    "print(y_train_abs1)"
   ]
  },
  {
   "cell_type": "code",
   "execution_count": 35,
   "id": "6b0ff7c7",
   "metadata": {},
   "outputs": [],
   "source": [
    "#에타 업데이트 용 함수\n",
    "t0 = 10\n",
    "t1 = 100\n",
    "def learning_schedule(t):\n",
    "    return t0 / (t + t1) \n",
    "\n",
    "#definition of f(x)\n",
    "w = np.random.randn(2) \n",
    "b = np.random.randn(1) #initialization\n",
    "def f(x):\n",
    "    return w.T.dot(x) + b\n",
    "\n",
    "#람다\n",
    "C=5\n",
    "const_lambda = 2/C\n",
    "\n",
    "#gradient (with repect to w) update\n",
    "def gradient_wrt_w(x, y):\n",
    "    if y * f(x) < 1:\n",
    "        return const_lambda * w - y * x\n",
    "    else:\n",
    "        return const_lambda * w"
   ]
  },
  {
   "cell_type": "code",
   "execution_count": 36,
   "id": "3233e9a4",
   "metadata": {},
   "outputs": [],
   "source": [
    "n_epochs = 1000\n",
    "m = len(X_train)\n",
    "\n",
    "for epoch in range(n_epochs):\n",
    "    for i in range(m):\n",
    "        random_index = np.random.randint(m)\n",
    "        xi = X_train[random_index]\n",
    "        yi = y_train[random_index]\n",
    "        eta = learning_schedule(epoch)\n",
    "        w = w - eta * gradient_wrt_w(xi, yi)"
   ]
  },
  {
   "cell_type": "code",
   "execution_count": 37,
   "id": "3018e2c3",
   "metadata": {},
   "outputs": [
    {
     "data": {
      "text/plain": [
       "array([0.85780347, 0.85901598])"
      ]
     },
     "execution_count": 37,
     "metadata": {},
     "output_type": "execute_result"
    }
   ],
   "source": [
    "w"
   ]
  },
  {
   "cell_type": "code",
   "execution_count": 38,
   "id": "ea7fb19b",
   "metadata": {},
   "outputs": [
    {
     "data": {
      "text/plain": [
       "array([[26,  0],\n",
       "       [ 1, 11]], dtype=int64)"
      ]
     },
     "execution_count": 38,
     "metadata": {},
     "output_type": "execute_result"
    }
   ],
   "source": [
    "#get final values\n",
    "y_pred = []\n",
    "for xi in X_test:\n",
    "    if f(xi) > 0:\n",
    "        y_pred.append(1)\n",
    "    else:\n",
    "        y_pred.append(0)\n",
    "y_pred = np.array(y_pred)\n",
    "\n",
    "#confusion matrix of this svm training applied sgd\n",
    "from sklearn.metrics import confusion_matrix\n",
    "confusion_matrix(y_test, y_pred)"
   ]
  },
  {
   "cell_type": "code",
   "execution_count": 14,
   "id": "6fcd058d",
   "metadata": {},
   "outputs": [
    {
     "data": {
      "text/plain": [
       "array([[26,  0],\n",
       "       [ 0, 12]], dtype=int64)"
      ]
     },
     "execution_count": 14,
     "metadata": {},
     "output_type": "execute_result"
    }
   ],
   "source": [
    "#using module\n",
    "from sklearn.svm import SVC\n",
    "svm_clf = SVC(kernel=\"linear\", C=5)\n",
    "svm_clf.fit(X_train, y_train_abs1)\n",
    "svm_clf_pred = svm_clf.predict(X_test)\n",
    "\n",
    "y_confusion_matrix = confusion_matrix(y_test_abs1, svm_clf_pred)\n",
    "y_confusion_matrix"
   ]
  },
  {
   "cell_type": "code",
   "execution_count": null,
   "id": "53b0caa1",
   "metadata": {},
   "outputs": [],
   "source": []
  }
 ],
 "metadata": {
  "kernelspec": {
   "display_name": "Python 3 (ipykernel)",
   "language": "python",
   "name": "python3"
  },
  "language_info": {
   "codemirror_mode": {
    "name": "ipython",
    "version": 3
   },
   "file_extension": ".py",
   "mimetype": "text/x-python",
   "name": "python",
   "nbconvert_exporter": "python",
   "pygments_lexer": "ipython3",
   "version": "3.9.7"
  }
 },
 "nbformat": 4,
 "nbformat_minor": 5
}
